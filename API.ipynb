{
 "cells": [
  {
   "cell_type": "code",
   "execution_count": 1,
   "metadata": {},
   "outputs": [],
   "source": [
    "# coding: utf-8\n",
    "import pickle\n",
    "from flask import Flask, request\n",
    "import numpy as np\n",
    "import pandas as pd\n",
    "# definir la API\n",
    "app = Flask(__name__)\n",
    "\n",
    "# cargar el modelo guardado previamente\n",
    "model = pickle.load(open('Modelo_Rating.sav', 'rb'))"
   ]
  },
  {
   "cell_type": "code",
   "execution_count": null,
   "metadata": {},
   "outputs": [
    {
     "name": "stdout",
     "output_type": "stream",
     "text": [
      " * Serving Flask app \"__main__\" (lazy loading)\n",
      " * Environment: production\n",
      "   WARNING: This is a development server. Do not use it in a production deployment.\n",
      "   Use a production WSGI server instead.\n",
      " * Debug mode: on\n"
     ]
    },
    {
     "name": "stderr",
     "output_type": "stream",
     "text": [
      " * Running on http://127.0.0.1:9013/ (Press CTRL+C to quit)\n",
      "127.0.0.1 - - [02/Mar/2022 18:43:45] \"\u001b[37mPOST /?GOLES=2&ASISTENCIAS=0&MINUTOS_JUGADOS=82&TIROS_ARCO=2&TACKLES.1=1&TOQUES=36&KEY_PASSES=1&FOULS=1&DUELOS_R=12&CROSSES_R=0&LONG_BALLS_R=2&%25DUELOS_E=0.4166666666666667&%25CROSSES_E=0&%25LONG_BALLS=1 HTTP/1.1\u001b[0m\" 200 -\n"
     ]
    }
   ],
   "source": [
    "@app.route('/', methods=['POST']) # puede ser método GET también\n",
    "# función que va a obtener los datos de las variables y correr el modelo predictivo\n",
    "def api():\n",
    "    GOLES = request.args.get('GOLES', type=float) # tiene que ser el tipo de datos correcto\n",
    "    ASISTENCIAS = request.args.get('ASISTENCIAS', type=float)\n",
    "    MINUTOS_JUGADOS = request.args.get('MINUTOS_JUGADOS', type=float)\n",
    "    TIROS_ARCO = request.args.get('TIROS_ARCO', type=float)\n",
    "    TACKLES = request.args.get('TACKLES', type=float)\n",
    "    TOQUES = request.args.get('TOQUES', type=float)\n",
    "    KEY_PASSES = request.args.get('KEY_PASSES', type=float)\n",
    "    FOULS = request.args.get('FOULS', type=float) # tiene que ser el tipo de datos correcto\n",
    "    DUELOS_R = request.args.get('DUELOS_R', type=float)\n",
    "    CROSSES_R = request.args.get('CROSSES_R', type=float)\n",
    "    LONG_BALLS_R = request.args.get('LONG_BALLS_R', type=float)\n",
    "    DUELOS_P = request.args.get('DUELOS_P', type=float)\n",
    "    CROSSES_P = request.args.get('CROSSES_P', type=float)\n",
    "    LONG_BALLS_P = request.args.get('LONG_BALLS_P', type=float)\n",
    "    \n",
    "    vect = [GOLES,ASISTENCIAS,MINUTOS_JUGADOS,TIROS_ARCO,TACKLES,TOQUES,KEY_PASSES,FOULS,DUELOS_R,CROSSES_R,LONG_BALLS_R,\n",
    "           DUELOS_P,CROSSES_P,LONG_BALLS_P]\n",
    "    data = [vect]\n",
    "    \n",
    "    df = pd.DataFrame(data, columns = ['GOLES', 'ASISTENCIAS', 'MINUTOS_JUGADOS', 'TIROS_ARCO', 'TACKLES',\n",
    "       'TOQUES', 'KEY_PASSES', 'FOULS', 'DUELOS_R', 'CROSSES_R',\n",
    "       'LONG_BALLS_R', 'DUELOS_P', 'CROSSES_P', 'LONG_BALLS_P'])\n",
    "      \n",
    "    prediction = model.predict(df) # el modelo realiza la predicción\n",
    "    x = str(prediction)\n",
    "    return x\n",
    "    \n",
    "if __name__ == '__main__':\n",
    "    app.run(debug=True, use_reloader=False,port=9013) # el puerto puede ser otro"
   ]
  },
  {
   "cell_type": "code",
   "execution_count": null,
   "metadata": {},
   "outputs": [],
   "source": []
  }
 ],
 "metadata": {
  "kernelspec": {
   "display_name": "Python 3",
   "language": "python",
   "name": "python3"
  },
  "language_info": {
   "codemirror_mode": {
    "name": "ipython",
    "version": 3
   },
   "file_extension": ".py",
   "mimetype": "text/x-python",
   "name": "python",
   "nbconvert_exporter": "python",
   "pygments_lexer": "ipython3",
   "version": "3.8.3"
  }
 },
 "nbformat": 4,
 "nbformat_minor": 4
}
